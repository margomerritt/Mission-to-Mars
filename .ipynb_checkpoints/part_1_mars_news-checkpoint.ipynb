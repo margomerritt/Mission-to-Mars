{
 "cells": [
  {
   "cell_type": "markdown",
   "metadata": {},
   "source": [
    "# Module 12 Challenge\n",
    "## Deliverable 1: Scrape Titles and Preview Text from Mars News"
   ]
  },
  {
   "cell_type": "code",
   "execution_count": 1,
   "metadata": {},
   "outputs": [],
   "source": [
    "# Import Splinter and BeautifulSoup\n",
    "from splinter import Browser\n",
    "from bs4 import BeautifulSoup as soup\n",
    "from webdriver_manager.chrome import ChromeDriverManager"
   ]
  },
  {
   "cell_type": "code",
   "execution_count": 2,
   "metadata": {
    "scrolled": true
   },
   "outputs": [],
   "source": [
    "executable_path = {'executable_path': ChromeDriverManager().install()}\n",
    "browser = Browser('chrome', **executable_path, headless=False)"
   ]
  },
  {
   "cell_type": "markdown",
   "metadata": {},
   "source": [
    "### Step 1: Visit the Website\n",
    "\n",
    "1. Use automated browsing to visit the [Mars NASA news site](https://redplanetscience.com). Inspect the page to identify which elements to scrape.\n",
    "\n",
    "      > **Hint** To identify which elements to scrape, you might want to inspect the page by using Chrome DevTools."
   ]
  },
  {
   "cell_type": "code",
   "execution_count": 3,
   "metadata": {},
   "outputs": [],
   "source": [
    "# Visit the Mars NASA news site: https://redplanetscience.com\n",
    "url = 'https://redplanetscience.com'\n",
    "browser.visit(url)"
   ]
  },
  {
   "cell_type": "markdown",
   "metadata": {},
   "source": [
    "### Step 2: Scrape the Website\n",
    "\n",
    "Create a Beautiful Soup object and use it to extract text elements from the website."
   ]
  },
  {
   "cell_type": "code",
   "execution_count": 4,
   "metadata": {},
   "outputs": [],
   "source": [
    "# Create a Beautiful Soup object\n",
    "html = browser.html\n",
    "news_soup = soup(html, 'html.parser')\n",
    "slide_elem = news_soup.select_one('div.list_text')"
   ]
  },
  {
   "cell_type": "code",
   "execution_count": 5,
   "metadata": {},
   "outputs": [
    {
     "name": "stdout",
     "output_type": "stream",
     "text": [
      "<div class=\"content_title\">NASA's Treasure Map for Water Ice on Mars</div>\n"
     ]
    }
   ],
   "source": [
    "# Extract all the text elements\n",
    " \n",
    "title_elem = slide_elem.find('div', class_='content_title')\n",
    "\n",
    "print(title_elem)"
   ]
  },
  {
   "cell_type": "code",
   "execution_count": 6,
   "metadata": {},
   "outputs": [
    {
     "name": "stdout",
     "output_type": "stream",
     "text": [
      "NASA's Treasure Map for Water Ice on Mars\n"
     ]
    }
   ],
   "source": [
    "title = title_elem.get_text()\n",
    "print(title)"
   ]
  },
  {
   "cell_type": "code",
   "execution_count": 7,
   "metadata": {},
   "outputs": [
    {
     "data": {
      "text/plain": [
       "'A new study identifies frozen water just below the Martian surface, where astronauts could easily dig it up.'"
      ]
     },
     "execution_count": 7,
     "metadata": {},
     "output_type": "execute_result"
    }
   ],
   "source": [
    "news_p = slide_elem.find('div', class_='article_teaser_body').text\n",
    "news_p"
   ]
  },
  {
   "cell_type": "markdown",
   "metadata": {},
   "source": [
    "### Step 3: Store the Results\n",
    "\n",
    "Extract the titles and preview text of the news articles that you scraped. Store the scraping results in Python data structures as follows:\n",
    "\n",
    "* Store each title-and-preview pair in a Python dictionary. And, give each dictionary two keys: `title` and `preview`. An example is the following:\n",
    "\n",
    "  ```python\n",
    "  {'title': \"Mars Rover Begins Mission!\", \n",
    "        'preview': \"NASA's Mars Rover begins a multiyear mission to collect data about the little-explored planet.\"}\n",
    "  ```\n",
    "\n",
    "* Store all the dictionaries in a Python list.\n",
    "\n",
    "* Print the list in your notebook."
   ]
  },
  {
   "cell_type": "code",
   "execution_count": 8,
   "metadata": {},
   "outputs": [],
   "source": [
    "# Create an empty list to store the dictionaries\n",
    "mars_articles = []"
   ]
  },
  {
   "cell_type": "code",
   "execution_count": 9,
   "metadata": {},
   "outputs": [],
   "source": [
    "element_divs = news_soup.find_all('div', class_=\"list_text\")"
   ]
  },
  {
   "cell_type": "code",
   "execution_count": 10,
   "metadata": {},
   "outputs": [],
   "source": [
    "# Loop through the text elements\n",
    "# Extract the title and preview text from the elements\n",
    "# Store each title and preview pair in a dictionary\n",
    "# Add the dictionary to the list\n",
    "for element in element_divs:\n",
    "    title = element.find(\"div\", class_ = \"content_title\").text\n",
    "    preview = element.find(\"div\", class_=\"article_teaser_body\").text.strip()\n",
    "    element_dict = {}\n",
    "    element_dict[\"title\"] = title\n",
    "    element_dict[\"preview\"] = preview\n",
    "    mars_articles.append(element_dict)\n",
    "    \n"
   ]
  },
  {
   "cell_type": "code",
   "execution_count": 11,
   "metadata": {},
   "outputs": [
    {
     "data": {
      "text/plain": [
       "[{'title': \"NASA's Treasure Map for Water Ice on Mars\",\n",
       "  'preview': 'A new study identifies frozen water just below the Martian surface, where astronauts could easily dig it up.'},\n",
       " {'title': '7 Things to Know About the Mars 2020 Perseverance Rover Mission',\n",
       "  'preview': \"NASA's next rover to the Red Planet is slated to launch no earlier than July 30. These highlights will get you up to speed on the ambitious mission.\"},\n",
       " {'title': 'With Mars Methane Mystery Unsolved, Curiosity Serves Scientists a New One: Oxygen',\n",
       "  'preview': 'For the first time in the history of space exploration, scientists have measured the seasonal changes in the gases that fill the air directly above the surface of Gale Crater on Mars.'},\n",
       " {'title': \"Meet the People Behind NASA's Perseverance Rover\",\n",
       "  'preview': \"These are the scientists and engineers who built NASA's next Mars rover and who will guide it to a safe landing in Jezero Crater.\"},\n",
       " {'title': \"Newfound Martian Aurora Actually the Most Common; Sheds Light on Mars' Changing Climate\",\n",
       "  'preview': 'A type of Martian aurora first identified by NASA’s MAVEN spacecraft in 2016 is actually the most common form of aurora occurring on the Red Planet, according to new results from the mission.'},\n",
       " {'title': \"NASA's Perseverance Rover Will Carry First Spacesuit Materials to Mars\",\n",
       "  'preview': 'In a Q&A, spacesuit designer Amy Ross explains how five samples, including a piece of helmet visor, will be tested aboard the rover, which is targeting a July 30 launch.'},\n",
       " {'title': \"NASA's Ingenuity Mars Helicopter Recharges Its Batteries in Flight\",\n",
       "  'preview': 'Headed to the Red Planet with the Perseverance rover, the pioneering helicopter is powered up for the first time in interplanetary space as part of a systems check.'},\n",
       " {'title': 'NASA to Reveal Name of Its Next Mars Rover',\n",
       "  'preview': \"After a months-long contest among students to name NASA's newest Mars rover, the agency will reveal the winning name — and the winning student — this Thursday.\"},\n",
       " {'title': \"NASA's Mars Perseverance Rover Passes Flight Readiness Review\",\n",
       "  'preview': \"\\u200bThe agency's Mars 2020 mission has one more big prelaunch review – the Launch Readiness Review, on July 27.\"},\n",
       " {'title': \"NASA's Perseverance Rover Is Midway to Mars \",\n",
       "  'preview': \"Sometimes half measures can be a good thing – especially on a journey this long. The agency's latest rover only has about 146 million miles left to reach its destination.\"},\n",
       " {'title': \"The Launch Is Approaching for NASA's Next Mars Rover, Perseverance\",\n",
       "  'preview': \"The Red Planet's surface has been visited by eight NASA spacecraft. The ninth will be the first that includes a roundtrip ticket in its flight plan.\"},\n",
       " {'title': 'Join NASA for the Launch of the Mars 2020 Perseverance Rover',\n",
       "  'preview': 'No matter where you live, choose from a menu of activities to join NASA as we \"Countdown to Mars\" and launch the Perseverance rover to the Red Planet.'},\n",
       " {'title': \"Hear Audio From NASA's Perseverance As It Travels Through Deep Space\",\n",
       "  'preview': \"The first to be rigged with microphones, the agency's latest Mars rover picked up the subtle sounds of its own inner workings during interplanetary flight.\"},\n",
       " {'title': \"Air Deliveries Bring NASA's Perseverance Mars Rover Closer to Launch\",\n",
       "  'preview': \"A NASA Wallops Flight Facility cargo plane transported more than two tons of equipment — including the rover's sample collection tubes — to Florida for this summer's liftoff.\"},\n",
       " {'title': 'Heat and Dust Help Launch Martian Water Into Space, Scientists Find',\n",
       "  'preview': 'Scientists using an instrument aboard NASA’s Mars Atmosphere and Volatile EvolutioN, or MAVEN, spacecraft have discovered that water vapor near the surface of the Red Planet is lofted higher into the atmosphere than anyone expected was possible.'}]"
      ]
     },
     "execution_count": 11,
     "metadata": {},
     "output_type": "execute_result"
    }
   ],
   "source": [
    "# Print the list to confirm success\n",
    "mars_articles"
   ]
  },
  {
   "cell_type": "code",
   "execution_count": 12,
   "metadata": {},
   "outputs": [],
   "source": [
    "# browser.quit()"
   ]
  },
  {
   "cell_type": "markdown",
   "metadata": {},
   "source": [
    "### (Optional) Step 4: Export the Data\n",
    "\n",
    "Optionally, store the scraped data in a file or database (to ease sharing the data with others). To do so, export the scraped data to either a JSON file or a MongoDB database."
   ]
  },
  {
   "cell_type": "code",
   "execution_count": 13,
   "metadata": {},
   "outputs": [],
   "source": [
    "# Export data to JSON\n"
   ]
  },
  {
   "cell_type": "code",
   "execution_count": 14,
   "metadata": {},
   "outputs": [],
   "source": [
    "# Export data to MongoDB\n"
   ]
  }
 ],
 "metadata": {
  "kernelspec": {
   "display_name": "Python 3 (ipykernel)",
   "language": "python",
   "name": "python3"
  },
  "language_info": {
   "codemirror_mode": {
    "name": "ipython",
    "version": 3
   },
   "file_extension": ".py",
   "mimetype": "text/x-python",
   "name": "python",
   "nbconvert_exporter": "python",
   "pygments_lexer": "ipython3",
   "version": "3.9.12"
  }
 },
 "nbformat": 4,
 "nbformat_minor": 4
}
